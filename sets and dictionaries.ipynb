{
 "cells": [
  {
   "cell_type": "markdown",
   "id": "00d75065",
   "metadata": {},
   "source": [
    "SETS"
   ]
  },
  {
   "cell_type": "code",
   "execution_count": null,
   "id": "c05b1a4c",
   "metadata": {},
   "outputs": [],
   "source": [
    "#A set is a collection which is unordered, unchangeable*(except  remove items and add new items.), and unindexed.\n",
    "##REMEMBER\n",
    "#LIST-ordered and changeable\n",
    "#TUPLE-ordered and un-changeable\n"
   ]
  },
  {
   "cell_type": "code",
   "execution_count": 1,
   "id": "25c05ee2",
   "metadata": {},
   "outputs": [
    {
     "name": "stdout",
     "output_type": "stream",
     "text": [
      "{50, 20, 40, 10, 30}\n",
      "<class 'set'>\n"
     ]
    }
   ],
   "source": [
    "e_id={10,20,20,30,40,50}\n",
    "print(e_id)\n",
    "print(type(e_id))\n",
    "#check un-ordered and no duplicate\n",
    "\n",
    "\n",
    "#NO access since no indexing\n"
   ]
  },
  {
   "cell_type": "code",
   "execution_count": 3,
   "id": "dfbe77a0",
   "metadata": {},
   "outputs": [
    {
     "name": "stdout",
     "output_type": "stream",
     "text": [
      "<class 'set'>\n",
      "{'ramir', 'jennifer', 'maria', 'helder', 'hernandez', 'sophia'}\n"
     ]
    }
   ],
   "source": [
    "e_name={'maria','helder','ramir','sophia','hernandez'}\n",
    "print(type(e_name))\n",
    "\n",
    "\n",
    "#add\n",
    "e_name.add('jennifer')\n",
    "print(e_name)"
   ]
  },
  {
   "cell_type": "code",
   "execution_count": 4,
   "id": "8598d209",
   "metadata": {},
   "outputs": [
    {
     "data": {
      "text/plain": [
       "{'helder', 'hernandez', 'jennifer', 'maria', 'ramir', 'sophia'}"
      ]
     },
     "execution_count": 4,
     "metadata": {},
     "output_type": "execute_result"
    }
   ],
   "source": [
    "e_name\n",
    "#check how each and every time a differect order "
   ]
  },
  {
   "cell_type": "code",
   "execution_count": 14,
   "id": "5d6669d3",
   "metadata": {},
   "outputs": [
    {
     "name": "stdout",
     "output_type": "stream",
     "text": [
      "{'black grapes', 'apple', 'watermelon', 'oranges', 'mangoes', 'banana', 'papaya', 'coconut', 'muskmelon', 'kiwi'}\n",
      "{'coconut', 'watermelon', 'papaya', 'black grapes'}\n",
      "{'apple', 'oranges', 'banana', 'muskmelon', 'kiwi'}\n",
      "{'apple', 'oranges', 'mangoes', 'banana', 'muskmelon', 'kiwi'}\n"
     ]
    }
   ],
   "source": [
    "#OPERATIONS\n",
    "\n",
    "a={'oranges','kiwi','apple','banana','watermelon','muskmelon','papaya','black grapes','coconut'}\n",
    "my_fruits={'coconut','black grapes','papaya','watermelon','mangoes'}\n",
    "\n",
    "#UNIOn\n",
    "print(a.union(my_fruits))\n",
    "\n",
    "\n",
    "#intersection\n",
    "print(a.intersection(my_fruits))\n",
    "\n",
    "#difference\n",
    "print(a.difference(my_fruits))\n",
    "\n",
    "#symmetric_difference\n",
    "print(a.symmetric_difference(my_fruits))\n"
   ]
  },
  {
   "cell_type": "markdown",
   "id": "991213d7",
   "metadata": {},
   "source": [
    "DICTIONARY"
   ]
  },
  {
   "cell_type": "code",
   "execution_count": null,
   "id": "ade910a0",
   "metadata": {},
   "outputs": [],
   "source": [
    "#ordered*, changeable and do not allow duplicates."
   ]
  },
  {
   "cell_type": "code",
   "execution_count": 1,
   "id": "2e05568f",
   "metadata": {},
   "outputs": [
    {
     "name": "stdout",
     "output_type": "stream",
     "text": [
      "<class 'dict'>\n",
      "{'cricket': 'virat', 'football': 'ronaldo', 'lawntennis': 'federar', 'golf': 'woods', 'badminton': 'nehwal'}\n"
     ]
    }
   ],
   "source": [
    "sports={'cricket':'virat','football':'ronaldo','lawntennis':'federar','golf':'woods','badminton':'nehwal'}\n",
    "print(type(sports))\n",
    "print(sports)"
   ]
  },
  {
   "cell_type": "code",
   "execution_count": 5,
   "id": "fd9b8df6",
   "metadata": {},
   "outputs": [
    {
     "name": "stdout",
     "output_type": "stream",
     "text": [
      "dict_keys(['cricket', 'football', 'lawntennis', 'golf', 'badminton'])\n",
      "dict_values(['virat', 'ronaldo', 'federar', 'woods', 'nehwal'])\n",
      "dict_items([('cricket', 'virat'), ('football', 'ronaldo'), ('lawntennis', 'federar'), ('golf', 'woods'), ('badminton', 'nehwal')])\n",
      "woods\n"
     ]
    }
   ],
   "source": [
    "#ACCESS\n",
    "print(sports.keys())\n",
    "print(sports.values())\n",
    "print(sports.items())\n",
    "\n",
    "\n",
    "#accesing an  element\n",
    "print(sports['golf'])"
   ]
  },
  {
   "cell_type": "code",
   "execution_count": 8,
   "id": "26a2bf5f",
   "metadata": {},
   "outputs": [
    {
     "name": "stdout",
     "output_type": "stream",
     "text": [
      "{'cricket': 'virat', 'football': 'ronaldo', 'lawntennis': 'federar', 'golf': 'woods', 'badminton': 'nehwal', 'hockey': 'connor'}\n"
     ]
    },
    {
     "data": {
      "text/plain": [
       "{'cricket': 'virat',\n",
       " 'football': 'ronaldo',\n",
       " 'lawntennis': 'federar',\n",
       " 'golf': 'woods',\n",
       " 'badminton': 'nehwal',\n",
       " 'hockey': 'connor',\n",
       " 'TT': 'manika'}"
      ]
     },
     "execution_count": 8,
     "metadata": {},
     "output_type": "execute_result"
    }
   ],
   "source": [
    "#add\n",
    "sports['hockey']='connor'\n",
    "print(sports)\n",
    "\n",
    "\n",
    "sports.update({'TT':'manika'})\n",
    "sports"
   ]
  },
  {
   "cell_type": "code",
   "execution_count": 10,
   "id": "3061b4cf",
   "metadata": {},
   "outputs": [
    {
     "data": {
      "text/plain": [
       "{'cricket': 'rohit',\n",
       " 'football': 'ronaldo',\n",
       " 'lawntennis': 'federar',\n",
       " 'golf': 'woods',\n",
       " 'badminton': 'nehwal',\n",
       " 'hockey': 'connor',\n",
       " 'TT': 'manika'}"
      ]
     },
     "execution_count": 10,
     "metadata": {},
     "output_type": "execute_result"
    }
   ],
   "source": [
    "#change\n",
    "sports['cricket']='rohit'\n",
    "sports"
   ]
  },
  {
   "cell_type": "code",
   "execution_count": 11,
   "id": "26a7e1a6",
   "metadata": {},
   "outputs": [
    {
     "data": {
      "text/plain": [
       "{'cricket': 'rohit',\n",
       " 'football': 'ronaldo',\n",
       " 'lawntennis': 'federar',\n",
       " 'golf': 'woods',\n",
       " 'badminton': 'nehwal',\n",
       " 'hockey': 'connor'}"
      ]
     },
     "execution_count": 11,
     "metadata": {},
     "output_type": "execute_result"
    }
   ],
   "source": [
    "del sports['TT']\n",
    "sports\n",
    "#if [] not used complete dictionary will be removed\n"
   ]
  },
  {
   "cell_type": "code",
   "execution_count": 13,
   "id": "04caf3ef",
   "metadata": {},
   "outputs": [
    {
     "name": "stdout",
     "output_type": "stream",
     "text": [
      "<class 'dict'>\n",
      "{1: 'raj', 2: 'suman', 3: 'tia', 4: 'sia', 5: 'armaan'}\n"
     ]
    }
   ],
   "source": [
    "#dctionary comprehension\n",
    "e_id=[1,2,3,4,5]\n",
    "name=['raj','suman','tia','sia','armaan']\n",
    "detail={a:b for (a,b) in zip(e_id,name)}\n",
    "print(type(detail))\n",
    "print(detail)\n",
    "\n",
    "#note zip function"
   ]
  }
 ],
 "metadata": {
  "kernelspec": {
   "display_name": "Python 3 (ipykernel)",
   "language": "python",
   "name": "python3"
  },
  "language_info": {
   "codemirror_mode": {
    "name": "ipython",
    "version": 3
   },
   "file_extension": ".py",
   "mimetype": "text/x-python",
   "name": "python",
   "nbconvert_exporter": "python",
   "pygments_lexer": "ipython3",
   "version": "3.9.12"
  }
 },
 "nbformat": 4,
 "nbformat_minor": 5
}
