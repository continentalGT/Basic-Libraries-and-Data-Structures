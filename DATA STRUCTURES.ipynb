{
 "cells": [
  {
   "cell_type": "markdown",
   "id": "22a26565",
   "metadata": {},
   "source": [
    "# DATA STRUCTURES"
   ]
  },
  {
   "cell_type": "code",
   "execution_count": null,
   "id": "29a0bf72",
   "metadata": {},
   "outputs": [],
   "source": [
    "#Python Collections (Arrays)\n",
    "#There are four collection data types in the Python programming language:\n",
    "\n",
    "#List is a collection which is ordered and changeable. Allows duplicate members.\n",
    "#Tuple is a collection which is ordered and unchangeable. Allows duplicate members.\n",
    "#Set is a collection which is unordered, unchangeable*, and unindexed. No duplicate members.\n",
    "#Dictionary is a collection which is ordered** and changeable. No duplicate members.\n",
    "\n",
    "#REFER W3SCHOOL"
   ]
  },
  {
   "cell_type": "markdown",
   "id": "38da5f75",
   "metadata": {},
   "source": [
    "# Lists"
   ]
  },
  {
   "cell_type": "code",
   "execution_count": 1,
   "id": "3e898dbc",
   "metadata": {},
   "outputs": [
    {
     "name": "stdout",
     "output_type": "stream",
     "text": [
      "[1, 2.9, 3, 'lion']\n"
     ]
    },
    {
     "data": {
      "text/plain": [
       "(None, list)"
      ]
     },
     "execution_count": 1,
     "metadata": {},
     "output_type": "execute_result"
    }
   ],
   "source": [
    "l=[1,2.9,3,'lion']\n",
    "print(l),type(l)"
   ]
  },
  {
   "cell_type": "markdown",
   "id": "33bdd1e9",
   "metadata": {},
   "source": [
    "INDEXING AND SLICING"
   ]
  },
  {
   "cell_type": "code",
   "execution_count": 4,
   "id": "030f10ba",
   "metadata": {},
   "outputs": [
    {
     "name": "stdout",
     "output_type": "stream",
     "text": [
      "3\n"
     ]
    },
    {
     "data": {
      "text/plain": [
       "[3, 'lion']"
      ]
     },
     "execution_count": 4,
     "metadata": {},
     "output_type": "execute_result"
    }
   ],
   "source": [
    "#indexing\n",
    "print(l[2])\n",
    "\n",
    "\n",
    "#slicing\n",
    "l[2:]"
   ]
  },
  {
   "cell_type": "code",
   "execution_count": 5,
   "id": "5faa2f0d",
   "metadata": {},
   "outputs": [
    {
     "data": {
      "text/plain": [
       "0"
      ]
     },
     "execution_count": 5,
     "metadata": {},
     "output_type": "execute_result"
    }
   ],
   "source": [
    "#finding index\n",
    "l.index(1)"
   ]
  },
  {
   "cell_type": "markdown",
   "id": "fb5574ae",
   "metadata": {},
   "source": [
    "MODIFYING,ADDING,APPEND-ADD AT LAST"
   ]
  },
  {
   "cell_type": "code",
   "execution_count": 6,
   "id": "3a5f5160",
   "metadata": {},
   "outputs": [
    {
     "data": {
      "text/plain": [
       "[1, 2.9, 3, 'lion']"
      ]
     },
     "execution_count": 6,
     "metadata": {},
     "output_type": "execute_result"
    }
   ],
   "source": [
    "l"
   ]
  },
  {
   "cell_type": "code",
   "execution_count": 7,
   "id": "a8a4d60b",
   "metadata": {},
   "outputs": [
    {
     "data": {
      "text/plain": [
       "['lotus', 2.9, 3, 'lion']"
      ]
     },
     "execution_count": 7,
     "metadata": {},
     "output_type": "execute_result"
    }
   ],
   "source": [
    "l[0]='lotus'\n",
    "l"
   ]
  },
  {
   "cell_type": "code",
   "execution_count": 8,
   "id": "9c7f7141",
   "metadata": {},
   "outputs": [
    {
     "data": {
      "text/plain": [
       "['lotus', 2.9, 3, 'lion', 999]"
      ]
     },
     "execution_count": 8,
     "metadata": {},
     "output_type": "execute_result"
    }
   ],
   "source": [
    "l.append(999)\n",
    "l"
   ]
  },
  {
   "cell_type": "markdown",
   "id": "659f15bd",
   "metadata": {},
   "source": [
    "REMOVE AND POP"
   ]
  },
  {
   "cell_type": "code",
   "execution_count": 9,
   "id": "3ac95d8b",
   "metadata": {},
   "outputs": [
    {
     "data": {
      "text/plain": [
       "['lotus', 2.9, 3, 'lion']"
      ]
     },
     "execution_count": 9,
     "metadata": {},
     "output_type": "execute_result"
    }
   ],
   "source": [
    "l.pop()\n",
    "l"
   ]
  },
  {
   "cell_type": "code",
   "execution_count": 10,
   "id": "a326f097",
   "metadata": {},
   "outputs": [],
   "source": [
    "l.remove('lotus')"
   ]
  },
  {
   "cell_type": "code",
   "execution_count": 11,
   "id": "5d2575ea",
   "metadata": {},
   "outputs": [
    {
     "data": {
      "text/plain": [
       "[2.9, 3, 'lion']"
      ]
     },
     "execution_count": 11,
     "metadata": {},
     "output_type": "execute_result"
    }
   ],
   "source": [
    "l"
   ]
  },
  {
   "cell_type": "code",
   "execution_count": 12,
   "id": "1b1883ac",
   "metadata": {},
   "outputs": [
    {
     "data": {
      "text/plain": [
       "[2.9, 3, 'lion', 'owl', 88, 'coffe', 'bat']"
      ]
     },
     "execution_count": 12,
     "metadata": {},
     "output_type": "execute_result"
    }
   ],
   "source": [
    "#ADDING ANOTHER LIST\n",
    "l2=['owl',88,'coffe','bat']\n",
    "l=l+l2\n",
    "l\n"
   ]
  },
  {
   "cell_type": "code",
   "execution_count": 13,
   "id": "001ba7cc",
   "metadata": {},
   "outputs": [
    {
     "data": {
      "text/plain": [
       "[2.9, 3, 'lion', 'owl', 88, 'coffe', 'bat', 'r', 21, 2.1]"
      ]
     },
     "execution_count": 13,
     "metadata": {},
     "output_type": "execute_result"
    }
   ],
   "source": [
    "l3=['r',21,2.1]\n",
    "l.extend(l3)\n",
    "l"
   ]
  },
  {
   "cell_type": "markdown",
   "id": "6eb9774a",
   "metadata": {},
   "source": [
    "NEGATIVE INDEXING"
   ]
  },
  {
   "cell_type": "code",
   "execution_count": 14,
   "id": "e9a55139",
   "metadata": {},
   "outputs": [
    {
     "data": {
      "text/plain": [
       "21"
      ]
     },
     "execution_count": 14,
     "metadata": {},
     "output_type": "execute_result"
    }
   ],
   "source": [
    "l[-2]"
   ]
  },
  {
   "cell_type": "code",
   "execution_count": 15,
   "id": "c62752a8",
   "metadata": {},
   "outputs": [
    {
     "data": {
      "text/plain": [
       "['coffe', 'bat', 'r', 21, 2.1]"
      ]
     },
     "execution_count": 15,
     "metadata": {},
     "output_type": "execute_result"
    }
   ],
   "source": [
    "#last 5 elements\n",
    "l[-5:]"
   ]
  },
  {
   "cell_type": "code",
   "execution_count": 16,
   "id": "31abc704",
   "metadata": {},
   "outputs": [
    {
     "data": {
      "text/plain": [
       "['bat', 'r']"
      ]
     },
     "execution_count": 16,
     "metadata": {},
     "output_type": "execute_result"
    }
   ],
   "source": [
    "#last 4th and 3rd element\n",
    "l[-4:-2]"
   ]
  },
  {
   "cell_type": "markdown",
   "id": "ac28af5f",
   "metadata": {},
   "source": [
    "INSERT"
   ]
  },
  {
   "cell_type": "code",
   "execution_count": 18,
   "id": "0fe4badb",
   "metadata": {},
   "outputs": [],
   "source": [
    "l\n",
    "l.insert(4,87)"
   ]
  },
  {
   "cell_type": "code",
   "execution_count": 19,
   "id": "b132823d",
   "metadata": {},
   "outputs": [
    {
     "data": {
      "text/plain": [
       "[2.9, 3, 'lion', 'owl', 87, 88, 'coffe', 'bat', 'r', 21, 2.1]"
      ]
     },
     "execution_count": 19,
     "metadata": {},
     "output_type": "execute_result"
    }
   ],
   "source": [
    "l"
   ]
  },
  {
   "cell_type": "markdown",
   "id": "7314072f",
   "metadata": {},
   "source": [
    "REVERSE"
   ]
  },
  {
   "cell_type": "code",
   "execution_count": 22,
   "id": "d39a80e5",
   "metadata": {},
   "outputs": [
    {
     "data": {
      "text/plain": [
       "[2.1, 21, 'r', 'bat', 'coffe', 88, 87, 'owl', 'lion', 3, 2.9]"
      ]
     },
     "execution_count": 22,
     "metadata": {},
     "output_type": "execute_result"
    }
   ],
   "source": [
    "l.reverse()\n",
    "l"
   ]
  },
  {
   "cell_type": "markdown",
   "id": "d9061ca2",
   "metadata": {},
   "source": [
    "sort"
   ]
  },
  {
   "cell_type": "code",
   "execution_count": 24,
   "id": "4daa2069",
   "metadata": {},
   "outputs": [
    {
     "data": {
      "text/plain": [
       "[11, 22, 32, 32.1, 43, 1111, 2234]"
      ]
     },
     "execution_count": 24,
     "metadata": {},
     "output_type": "execute_result"
    }
   ],
   "source": [
    "m=[22,11,2234,1111,43,32,32.1]\n",
    "m.sort()\n",
    "m\n"
   ]
  },
  {
   "cell_type": "code",
   "execution_count": 25,
   "id": "5950b776",
   "metadata": {},
   "outputs": [
    {
     "data": {
      "text/plain": [
       "[2234, 1111, 43, 32.1, 32, 22, 11]"
      ]
     },
     "execution_count": 25,
     "metadata": {},
     "output_type": "execute_result"
    }
   ],
   "source": [
    "m.sort(reverse=True)\n",
    "m"
   ]
  },
  {
   "cell_type": "markdown",
   "id": "0ac69245",
   "metadata": {},
   "source": [
    "NESTED LIST"
   ]
  },
  {
   "cell_type": "code",
   "execution_count": 59,
   "id": "c7028560",
   "metadata": {},
   "outputs": [
    {
     "name": "stdout",
     "output_type": "stream",
     "text": [
      "[[1, 2, 3, 4, 5], ['subash', 'preeti', 'ali', 'john', 'maya'], ['support', 'data science', 'analytics', 'accounts', 'HR']]\n"
     ]
    },
    {
     "data": {
      "text/plain": [
       "list"
      ]
     },
     "execution_count": 59,
     "metadata": {},
     "output_type": "execute_result"
    }
   ],
   "source": [
    "emp_id=[1,2,3,4,5]\n",
    "emp_name=['subash','preeti','ali','john','maya']\n",
    "dept_name=['support','data science','analytics','accounts','HR']\n",
    "detail=[emp_id,emp_name,dept_name]\n",
    "print(detail)\n",
    "type(detail)"
   ]
  },
  {
   "cell_type": "code",
   "execution_count": 33,
   "id": "e91b741a",
   "metadata": {},
   "outputs": [
    {
     "data": {
      "text/plain": [
       "['support', 'data science', 'analytics', 'accounts', 'HR']"
      ]
     },
     "execution_count": 33,
     "metadata": {},
     "output_type": "execute_result"
    }
   ],
   "source": [
    "#access\n",
    "detail[2]"
   ]
  },
  {
   "cell_type": "code",
   "execution_count": 34,
   "id": "144b5081",
   "metadata": {},
   "outputs": [
    {
     "data": {
      "text/plain": [
       "'data science'"
      ]
     },
     "execution_count": 34,
     "metadata": {},
     "output_type": "execute_result"
    }
   ],
   "source": [
    "#getting data science\n",
    "detail[2][1]"
   ]
  },
  {
   "cell_type": "code",
   "execution_count": 35,
   "id": "70ce276d",
   "metadata": {},
   "outputs": [
    {
     "data": {
      "text/plain": [
       "['ali', 'john', 'maya']"
      ]
     },
     "execution_count": 35,
     "metadata": {},
     "output_type": "execute_result"
    }
   ],
   "source": [
    "#accessing name after preeti\n",
    "detail[1][2:]"
   ]
  },
  {
   "cell_type": "code",
   "execution_count": 60,
   "id": "05cc77f0",
   "metadata": {},
   "outputs": [
    {
     "data": {
      "text/plain": [
       "[[1, 2, 3, 4, 5],\n",
       " ['subash', 'preeti', 'ali', 'john', 'kamna'],\n",
       " ['support', 'data science', 'analytics', 'accounts', 'HR']]"
      ]
     },
     "execution_count": 60,
     "metadata": {},
     "output_type": "execute_result"
    }
   ],
   "source": [
    "#modifying\n",
    "detail[1][-1]='kamna'\n",
    "detail"
   ]
  },
  {
   "cell_type": "code",
   "execution_count": 61,
   "id": "8ae4dad9",
   "metadata": {},
   "outputs": [
    {
     "data": {
      "text/plain": [
       "[[1, 2, 3, 4, 5],\n",
       " ['subash', 'preeti', 'ali', 'john', 'kamna'],\n",
       " ['support', 'data science', 'analytics', 'accounts', 'HR']]"
      ]
     },
     "execution_count": 61,
     "metadata": {},
     "output_type": "execute_result"
    }
   ],
   "source": [
    "detail"
   ]
  },
  {
   "cell_type": "code",
   "execution_count": 62,
   "id": "5839bf81",
   "metadata": {},
   "outputs": [
    {
     "data": {
      "text/plain": [
       "[[1, 2, 3, 4, 5, 6],\n",
       " ['subash', 'preeti', 'ali', 'john', 'kamna', 'maya'],\n",
       " ['support', 'data science', 'analytics', 'accounts', 'HR', 'operations']]"
      ]
     },
     "execution_count": 62,
     "metadata": {},
     "output_type": "execute_result"
    }
   ],
   "source": [
    "#insert at a specific position\n",
    "detail[0].insert(5,6)\n",
    "detail[1].insert(5,'maya')\n",
    "detail[2].insert(5,'operations')\n",
    "detail"
   ]
  },
  {
   "cell_type": "code",
   "execution_count": 63,
   "id": "328b8b9d",
   "metadata": {},
   "outputs": [],
   "source": [
    "age=[21,33,22,44,35,37,24]\n",
    "detail.append(age)"
   ]
  },
  {
   "cell_type": "code",
   "execution_count": 64,
   "id": "51fe56a8",
   "metadata": {},
   "outputs": [
    {
     "data": {
      "text/plain": [
       "[[1, 2, 3, 4, 5, 6],\n",
       " ['subash', 'preeti', 'ali', 'john', 'kamna', 'maya'],\n",
       " ['support', 'data science', 'analytics', 'accounts', 'HR', 'operations'],\n",
       " [21, 33, 22, 44, 35, 37, 24]]"
      ]
     },
     "execution_count": 64,
     "metadata": {},
     "output_type": "execute_result"
    }
   ],
   "source": [
    "detail"
   ]
  },
  {
   "cell_type": "code",
   "execution_count": 65,
   "id": "e3c068b8",
   "metadata": {},
   "outputs": [
    {
     "data": {
      "text/plain": [
       "[[1, 2, 3, 4, 5, 6],\n",
       " ['subash', 'preeti', 'ali', 'john', 'kamna', 'maya'],\n",
       " ['support', 'data science', 'analytics', 'accounts', 'HR', 'operations'],\n",
       " [21, 33, 22, 44, 35, 37]]"
      ]
     },
     "execution_count": 65,
     "metadata": {},
     "output_type": "execute_result"
    }
   ],
   "source": [
    "#removing particular element\n",
    "detail[3].pop()\n",
    "detail"
   ]
  },
  {
   "cell_type": "code",
   "execution_count": 66,
   "id": "bffb5922",
   "metadata": {},
   "outputs": [
    {
     "data": {
      "text/plain": [
       "[[1, 2, 3, 4, 5, 6],\n",
       " ['subash', 'preeti', 'ali', 'john', 'kamna', 'maya'],\n",
       " ['support', 'data science', 'analytics', 'accounts', 'HR', 'operations']]"
      ]
     },
     "execution_count": 66,
     "metadata": {},
     "output_type": "execute_result"
    }
   ],
   "source": [
    "#deleting a sub list\n",
    "del detail[3]\n",
    "detail"
   ]
  },
  {
   "cell_type": "code",
   "execution_count": 73,
   "id": "de41b0e0",
   "metadata": {},
   "outputs": [
    {
     "data": {
      "text/plain": [
       "[33, 22, 44]"
      ]
     },
     "execution_count": 73,
     "metadata": {},
     "output_type": "execute_result"
    }
   ],
   "source": [
    "#List comprehensions\n",
    "age\n",
    "x=[i for i in age if i%11==0]\n",
    "x"
   ]
  },
  {
   "cell_type": "markdown",
   "id": "db16fb36",
   "metadata": {},
   "source": [
    "# TUPLES"
   ]
  },
  {
   "cell_type": "code",
   "execution_count": null,
   "id": "0b3578ce",
   "metadata": {},
   "outputs": [],
   "source": [
    "#A tuple is a collection which is ordered and unchangeable."
   ]
  },
  {
   "cell_type": "code",
   "execution_count": 74,
   "id": "a241b49f",
   "metadata": {},
   "outputs": [
    {
     "name": "stdout",
     "output_type": "stream",
     "text": [
      "(1, 2, 3.1, 'table', 888, 'kite')\n",
      "<class 'tuple'>\n"
     ]
    }
   ],
   "source": [
    "t=(1,2,3.1,'table',888,'kite')\n",
    "print(t)\n",
    "print(type(t))"
   ]
  },
  {
   "cell_type": "markdown",
   "id": "3b35efc3",
   "metadata": {},
   "source": [
    "INDEXING AN SLICING"
   ]
  },
  {
   "cell_type": "code",
   "execution_count": 75,
   "id": "0e3968f4",
   "metadata": {},
   "outputs": [
    {
     "data": {
      "text/plain": [
       "3.1"
      ]
     },
     "execution_count": 75,
     "metadata": {},
     "output_type": "execute_result"
    }
   ],
   "source": [
    "t[2]"
   ]
  },
  {
   "cell_type": "code",
   "execution_count": 76,
   "id": "83c93869",
   "metadata": {},
   "outputs": [
    {
     "data": {
      "text/plain": [
       "(888, 'kite')"
      ]
     },
     "execution_count": 76,
     "metadata": {},
     "output_type": "execute_result"
    }
   ],
   "source": [
    "t[4:]"
   ]
  },
  {
   "cell_type": "code",
   "execution_count": 80,
   "id": "98a176d5",
   "metadata": {},
   "outputs": [
    {
     "data": {
      "text/plain": [
       "(3.1, 'table', 888)"
      ]
     },
     "execution_count": 80,
     "metadata": {},
     "output_type": "execute_result"
    }
   ],
   "source": [
    "#negative indexing\n",
    "t[2:5]"
   ]
  },
  {
   "cell_type": "code",
   "execution_count": 78,
   "id": "b775f1bd",
   "metadata": {},
   "outputs": [
    {
     "data": {
      "text/plain": [
       "'table'"
      ]
     },
     "execution_count": 78,
     "metadata": {},
     "output_type": "execute_result"
    }
   ],
   "source": [
    "\n",
    "t[-3]"
   ]
  },
  {
   "cell_type": "code",
   "execution_count": 79,
   "id": "8a3e884c",
   "metadata": {},
   "outputs": [
    {
     "data": {
      "text/plain": [
       "('table', 888)"
      ]
     },
     "execution_count": 79,
     "metadata": {},
     "output_type": "execute_result"
    }
   ],
   "source": [
    "t[-3:-1]"
   ]
  },
  {
   "cell_type": "code",
   "execution_count": 81,
   "id": "f5b37698",
   "metadata": {},
   "outputs": [
    {
     "data": {
      "text/plain": [
       "(1, 2, 3.1, 'table', 888, 'kite', 'python', 'R', 'tableau', 'sql')"
      ]
     },
     "execution_count": 81,
     "metadata": {},
     "output_type": "execute_result"
    }
   ],
   "source": [
    "#concatenate\n",
    "t1=('python','R','tableau','sql')\n",
    "t=t+t1\n",
    "t"
   ]
  },
  {
   "cell_type": "code",
   "execution_count": 83,
   "id": "bdb85506",
   "metadata": {},
   "outputs": [
    {
     "name": "stdout",
     "output_type": "stream",
     "text": [
      "[1, 2, 3.1, 'table', 888, 'kite', 'python', 'R', 'tableau', 'sql']\n",
      "<class 'list'>\n"
     ]
    }
   ],
   "source": [
    "#although tuples are unchangebale but we can change them after converting to list\n",
    "t=list(t)\n",
    "print(t)\n",
    "print(type(t))"
   ]
  },
  {
   "cell_type": "code",
   "execution_count": 84,
   "id": "ad6b3131",
   "metadata": {},
   "outputs": [
    {
     "data": {
      "text/plain": [
       "5"
      ]
     },
     "execution_count": 84,
     "metadata": {},
     "output_type": "execute_result"
    }
   ],
   "source": [
    "#changing kite to power BI\n",
    "t.index('kite')"
   ]
  },
  {
   "cell_type": "code",
   "execution_count": 85,
   "id": "89b605ed",
   "metadata": {},
   "outputs": [
    {
     "data": {
      "text/plain": [
       "[1, 2, 3.1, 'table', 888, 'powerBI', 'python', 'R', 'tableau', 'sql']"
      ]
     },
     "execution_count": 85,
     "metadata": {},
     "output_type": "execute_result"
    }
   ],
   "source": [
    "t[5]='powerBI'\n",
    "t"
   ]
  },
  {
   "cell_type": "code",
   "execution_count": 86,
   "id": "4469dfda",
   "metadata": {},
   "outputs": [
    {
     "name": "stdout",
     "output_type": "stream",
     "text": [
      "<class 'tuple'>\n",
      "(1, 2, 3.1, 'table', 888, 'powerBI', 'python', 'R', 'tableau', 'sql')\n"
     ]
    }
   ],
   "source": [
    "t=tuple(t)\n",
    "print(type(t))\n",
    "print(t)"
   ]
  },
  {
   "cell_type": "markdown",
   "id": "1968d417",
   "metadata": {},
   "source": [
    "# SETS"
   ]
  },
  {
   "cell_type": "code",
   "execution_count": null,
   "id": "e3dadb47",
   "metadata": {},
   "outputs": [],
   "source": [
    "#A set is a collection which is unordered, unchangeable*(except  remove items and add new items.), and unindexed."
   ]
  },
  {
   "cell_type": "code",
   "execution_count": 1,
   "id": "8f0ada0d",
   "metadata": {},
   "outputs": [
    {
     "name": "stdout",
     "output_type": "stream",
     "text": [
      "{1, 2, 3, 4, 'lion'}\n",
      "<class 'set'>\n"
     ]
    },
    {
     "data": {
      "text/plain": [
       "(None, None)"
      ]
     },
     "execution_count": 1,
     "metadata": {},
     "output_type": "execute_result"
    }
   ],
   "source": [
    "s={1,2,3,4,'lion'}\n",
    "print(s),print(type(s))"
   ]
  },
  {
   "cell_type": "code",
   "execution_count": 2,
   "id": "e7b8abd8",
   "metadata": {},
   "outputs": [
    {
     "data": {
      "text/plain": [
       "{'july', 'kamna', 'maya', 'sara', 'veronica'}"
      ]
     },
     "execution_count": 2,
     "metadata": {},
     "output_type": "execute_result"
    }
   ],
   "source": [
    "#ADD\n",
    "name={'kamna','maya','sara','july'}\n",
    "name.add('veronica')\n",
    "name\n",
    "#check un-ordered elements"
   ]
  },
  {
   "cell_type": "code",
   "execution_count": 4,
   "id": "06ee2e15",
   "metadata": {},
   "outputs": [
    {
     "data": {
      "text/plain": [
       "{'black',\n",
       " 'blue',\n",
       " 'gold',\n",
       " 'green',\n",
       " 'magenta',\n",
       " 'other',\n",
       " 'pink',\n",
       " 'purple',\n",
       " 'red',\n",
       " 'silver',\n",
       " 'white',\n",
       " 'yellow'}"
      ]
     },
     "execution_count": 4,
     "metadata": {},
     "output_type": "execute_result"
    }
   ],
   "source": [
    "#OPERATIONS\n",
    "colour1={'red','yellow','black','green','white','pink'}\n",
    "colour2={'red','blue','black','purple','gold','magenta','silver','other'}\n",
    "\n",
    "#union\n",
    "colour1.union(colour2)"
   ]
  },
  {
   "cell_type": "code",
   "execution_count": 5,
   "id": "63ddfc22",
   "metadata": {},
   "outputs": [
    {
     "data": {
      "text/plain": [
       "{'black', 'red'}"
      ]
     },
     "execution_count": 5,
     "metadata": {},
     "output_type": "execute_result"
    }
   ],
   "source": [
    "#intersection\n",
    "colour1.intersection(colour2)"
   ]
  },
  {
   "cell_type": "code",
   "execution_count": 8,
   "id": "ffe1d464",
   "metadata": {},
   "outputs": [
    {
     "data": {
      "text/plain": [
       "{'green', 'pink', 'white', 'yellow'}"
      ]
     },
     "execution_count": 8,
     "metadata": {},
     "output_type": "execute_result"
    }
   ],
   "source": [
    "#differnce\n",
    "colour1.difference(colour2)"
   ]
  },
  {
   "cell_type": "code",
   "execution_count": 10,
   "id": "f27b0de8",
   "metadata": {},
   "outputs": [
    {
     "data": {
      "text/plain": [
       "{'blue',\n",
       " 'gold',\n",
       " 'green',\n",
       " 'magenta',\n",
       " 'other',\n",
       " 'pink',\n",
       " 'purple',\n",
       " 'silver',\n",
       " 'white',\n",
       " 'yellow'}"
      ]
     },
     "execution_count": 10,
     "metadata": {},
     "output_type": "execute_result"
    }
   ],
   "source": [
    "#symmetric differnce\n",
    "colour1.symmetric_difference(colour2)"
   ]
  },
  {
   "cell_type": "markdown",
   "id": "3482184a",
   "metadata": {},
   "source": [
    "# DICTIONARY"
   ]
  },
  {
   "cell_type": "code",
   "execution_count": 11,
   "id": "df239392",
   "metadata": {},
   "outputs": [
    {
     "name": "stdout",
     "output_type": "stream",
     "text": [
      "{'veronics': 'modelling', 'maya': 'HR', 'kamna': 'teacher', 'sierra': 'designing'}\n"
     ]
    },
    {
     "data": {
      "text/plain": [
       "(None, dict)"
      ]
     },
     "execution_count": 11,
     "metadata": {},
     "output_type": "execute_result"
    }
   ],
   "source": [
    "dict={'veronics':'modelling','maya':'HR','kamna':'teacher','sierra':'designing'}\n",
    "print(dict),type(dict)"
   ]
  },
  {
   "cell_type": "code",
   "execution_count": 12,
   "id": "943a0dad",
   "metadata": {},
   "outputs": [
    {
     "data": {
      "text/plain": [
       "dict_keys(['veronics', 'maya', 'kamna', 'sierra'])"
      ]
     },
     "execution_count": 12,
     "metadata": {},
     "output_type": "execute_result"
    }
   ],
   "source": [
    "#accesing keys\n",
    "dict.keys()"
   ]
  },
  {
   "cell_type": "code",
   "execution_count": 13,
   "id": "36808856",
   "metadata": {},
   "outputs": [
    {
     "name": "stdout",
     "output_type": "stream",
     "text": [
      "dict_values(['modelling', 'HR', 'teacher', 'designing'])\n",
      "dict_items([('veronics', 'modelling'), ('maya', 'HR'), ('kamna', 'teacher'), ('sierra', 'designing')])\n"
     ]
    }
   ],
   "source": [
    "#accesing values and items\n",
    "print(dict.values())\n",
    "print(dict.items())"
   ]
  },
  {
   "cell_type": "code",
   "execution_count": 14,
   "id": "7eefb73c",
   "metadata": {},
   "outputs": [
    {
     "data": {
      "text/plain": [
       "{'veronics': 'modelling',\n",
       " 'maya': 'HR',\n",
       " 'kamna': 'teacher',\n",
       " 'sierra': 'designing',\n",
       " 'jenny': 'chef'}"
      ]
     },
     "execution_count": 14,
     "metadata": {},
     "output_type": "execute_result"
    }
   ],
   "source": [
    "#add\n",
    "dict['jenny']='chef'\n",
    "dict"
   ]
  },
  {
   "cell_type": "code",
   "execution_count": 15,
   "id": "3c891415",
   "metadata": {},
   "outputs": [
    {
     "data": {
      "text/plain": [
       "{'veronics': 'modelling',\n",
       " 'maya': 'HR',\n",
       " 'kamna': 'teacher',\n",
       " 'sierra': 'designing',\n",
       " 'jenny': 'chef',\n",
       " 'betty': 'acting'}"
      ]
     },
     "execution_count": 15,
     "metadata": {},
     "output_type": "execute_result"
    }
   ],
   "source": [
    "dict.update({'betty':'acting'})\n",
    "dict"
   ]
  },
  {
   "cell_type": "code",
   "execution_count": 16,
   "id": "c81e40ce",
   "metadata": {},
   "outputs": [
    {
     "data": {
      "text/plain": [
       "{'veronics': 'modelling',\n",
       " 'maya': 'HR',\n",
       " 'kamna': 'teacher',\n",
       " 'sierra': 'manager',\n",
       " 'jenny': 'chef',\n",
       " 'betty': 'acting'}"
      ]
     },
     "execution_count": 16,
     "metadata": {},
     "output_type": "execute_result"
    }
   ],
   "source": [
    "#change\n",
    "dict['sierra']='manager'\n",
    "dict"
   ]
  },
  {
   "cell_type": "code",
   "execution_count": 17,
   "id": "7817ec20",
   "metadata": {},
   "outputs": [
    {
     "data": {
      "text/plain": [
       "{'veronics': 'modelling',\n",
       " 'maya': 'HR',\n",
       " 'kamna': 'teacher',\n",
       " 'sierra': 'manager',\n",
       " 'jenny': 'chef'}"
      ]
     },
     "execution_count": 17,
     "metadata": {},
     "output_type": "execute_result"
    }
   ],
   "source": [
    "del dict['betty']\n",
    "dict"
   ]
  },
  {
   "cell_type": "code",
   "execution_count": null,
   "id": "10dcb02f",
   "metadata": {},
   "outputs": [],
   "source": []
  },
  {
   "cell_type": "code",
   "execution_count": null,
   "id": "1d19eb64",
   "metadata": {},
   "outputs": [],
   "source": []
  },
  {
   "cell_type": "code",
   "execution_count": null,
   "id": "1407fabb",
   "metadata": {},
   "outputs": [],
   "source": []
  }
 ],
 "metadata": {
  "kernelspec": {
   "display_name": "Python 3 (ipykernel)",
   "language": "python",
   "name": "python3"
  },
  "language_info": {
   "codemirror_mode": {
    "name": "ipython",
    "version": 3
   },
   "file_extension": ".py",
   "mimetype": "text/x-python",
   "name": "python",
   "nbconvert_exporter": "python",
   "pygments_lexer": "ipython3",
   "version": "3.9.12"
  }
 },
 "nbformat": 4,
 "nbformat_minor": 5
}
